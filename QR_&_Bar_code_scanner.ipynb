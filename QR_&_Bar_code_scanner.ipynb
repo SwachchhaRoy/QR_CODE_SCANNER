{
 "cells": [
  {
   "cell_type": "code",
   "execution_count": 1,
   "metadata": {},
   "outputs": [],
   "source": [
    "# importing necessary libraries\n",
    "import cv2 as cv\n",
    "import numpy as np\n",
    "from pyzbar.pyzbar import decode\n",
    "\n",
    "# accessing webcam\n",
    "cap = cv.VideoCapture(0)    \n",
    "\n",
    "while cap.isOpened():\n",
    "    # reading the frame\n",
    "    ret, frame = cap.read()\n",
    "    # Display the frame\n",
    "    cv.imshow('My_camera', frame)\n",
    "    # Decode QR codes\n",
    "    decoded = decode(frame)\n",
    "    \n",
    "    for qr in decoded:\n",
    "        # converting data into string characters\n",
    "        data = qr.data.decode('utf-8')\n",
    "        \n",
    "        # printing the data that is decoded from qr-code\n",
    "        print(data)\n",
    "        \n",
    "        pts = np.array([qr.polygon], np.int32)\n",
    "        \n",
    "        pts = pts.reshape((-1, 1, 2)) \n",
    "        \n",
    "        lines = cv.polylines(frame, [pts], True, (0,0,255), 3)\n",
    "        # Displays the frame with polylines drawn around the QR code.\n",
    "        cv.imshow('My_camera', lines)\n",
    "        \n",
    "        # displaying text around qr-code\n",
    "        \n",
    "        # Retrieves the rectangle coordinates of the QR code bounding box.\n",
    "        pts2 = qr.rect\n",
    "        text = cv.putText(frame, data, (pts2[0], pts2[1]), cv.FONT_HERSHEY_PLAIN, 3, (255,255,0), 2)\n",
    "        cv.imshow('My_camera', text)\n",
    "           \n",
    "    if cv.waitKey(1) == ord('q'):\n",
    "        break\n",
    "        \n",
    "cap.release()\n",
    "cv.destroyAllWindows()"
   ]
  }
 ],
 "metadata": {
  "kernelspec": {
   "display_name": "Python 3 (ipykernel)",
   "language": "python",
   "name": "python3"
  },
  "language_info": {
   "codemirror_mode": {
    "name": "ipython",
    "version": 3
   },
   "file_extension": ".py",
   "mimetype": "text/x-python",
   "name": "python",
   "nbconvert_exporter": "python",
   "pygments_lexer": "ipython3",
   "version": "3.11.5"
  }
 },
 "nbformat": 4,
 "nbformat_minor": 2
}
